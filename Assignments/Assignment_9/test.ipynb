{
 "cells": [
  {
   "cell_type": "code",
   "execution_count": 11,
   "metadata": {},
   "outputs": [],
   "source": [
    "import pandas as pd\n",
    "import csv \n",
    "\n",
    "df=pd.read_csv('Cars93.csv')\n",
    "types=df['Type'].unique()\n",
    "with open('problem1b.csv','w') as f:\n",
    "    w=csv.writer(f)\n",
    "    w.writerow(df.columns)\n",
    "\n",
    "for i in types:\n",
    "    data=df.groupby('Type').get_group(i)\n",
    "    required_data=pd.DataFrame(data[data['Max.Price']==data['Max.Price'].max()])\n",
    "    with open('problem1b.csv','a') as f:\n",
    "        writer=csv.writer(f)\n",
    "        writer.writerows(required_data.values)\n",
    "    \n",
    "        "
   ]
  },
  {
   "cell_type": "code",
   "execution_count": 11,
   "metadata": {},
   "outputs": [
    {
     "name": "stdout",
     "output_type": "stream",
     "text": [
      "Series([], Name: Model, dtype: object)\n"
     ]
    }
   ],
   "source": [
    "#part-c\n",
    "import sys\n",
    "import pandas as pd\n",
    "\n",
    "if len(sys.argv)!=2:\n",
    "    print('Enter Name of the Manufacturer as command line argument')\n",
    "    exit()\n",
    "\n",
    "input=sys.argv[1]\n",
    "df=pd.read_csv('Cars93.csv')\n",
    "required_data=df[df['Manufacturer']==input]['Model']\n",
    "print(required_data)"
   ]
  },
  {
   "cell_type": "code",
   "execution_count": 10,
   "metadata": {},
   "outputs": [
    {
     "name": "stdout",
     "output_type": "stream",
     "text": [
      "Manufacturer\n",
      "Chevrolet        8\n",
      "Ford             8\n",
      "Dodge            6\n",
      "Pontiac          5\n",
      "Mazda            5\n",
      "Volkswagen       4\n",
      "Buick            4\n",
      "Toyota           4\n",
      "Oldsmobile       4\n",
      "Nissan           4\n",
      "Hyundai          4\n",
      "Subaru           3\n",
      "Honda            3\n",
      "Mercury          2\n",
      "Acura            2\n",
      "Mitsubishi       2\n",
      "Mercedes-Benz    2\n",
      "Lincoln          2\n",
      "Audi             2\n",
      "Lexus            2\n",
      "Geo              2\n",
      "Eagle            2\n",
      "Chrysler         2\n",
      "Cadillac         2\n",
      "Volvo            2\n",
      "Infiniti         1\n",
      "Plymouth         1\n",
      "Saab             1\n",
      "Saturn           1\n",
      "Chrylser         1\n",
      "Suzuki           1\n",
      "BMW              1\n",
      "dtype: int64\n",
      "    Unnamed: 0 Manufacturer    Model     Type  Min.Price  Price  Max.Price  \\\n",
      "0            1        Acura  Integra    Small       12.9   15.9       18.8   \n",
      "1            2        Acura   Legend  Midsize       29.2   33.9       38.7   \n",
      "2            3         Audi       90  Compact       25.9   29.1       32.3   \n",
      "3            4         Audi      100  Midsize       30.8   37.7       44.6   \n",
      "4            5          BMW     535i  Midsize       23.7   30.0       36.2   \n",
      "..         ...          ...      ...      ...        ...    ...        ...   \n",
      "88          89   Volkswagen  Eurovan      Van       16.6   19.7       22.7   \n",
      "89          90   Volkswagen   Passat  Compact       17.6   20.0       22.4   \n",
      "90          91   Volkswagen  Corrado   Sporty       22.9   23.3       23.7   \n",
      "91          92        Volvo      240  Compact       21.8   22.7       23.5   \n",
      "92          93        Volvo      850  Midsize       24.8   26.7       28.5   \n",
      "\n",
      "    MPG.city  MPG.highway             AirBags  ... Passengers Length  \\\n",
      "0         25           31                 NaN  ...          5    177   \n",
      "1         18           25  Driver & Passenger  ...          5    195   \n",
      "2         20           26         Driver only  ...          5    180   \n",
      "3         19           26  Driver & Passenger  ...          6    193   \n",
      "4         22           30         Driver only  ...          4    186   \n",
      "..       ...          ...                 ...  ...        ...    ...   \n",
      "88        17           21                 NaN  ...          7    187   \n",
      "89        21           30                 NaN  ...          5    180   \n",
      "90        18           25                 NaN  ...          4    159   \n",
      "91        21           28         Driver only  ...          5    190   \n",
      "92        20           28  Driver & Passenger  ...          5    184   \n",
      "\n",
      "    Wheelbase  Width  Turn.circle  Rear.seat.room Luggage.room  Weight  \\\n",
      "0         102     68           37            26.5         11.0    2705   \n",
      "1         115     71           38            30.0         15.0    3560   \n",
      "2         102     67           37            28.0         14.0    3375   \n",
      "3         106     70           37            31.0         17.0    3405   \n",
      "4         109     69           39            27.0         13.0    3640   \n",
      "..        ...    ...          ...             ...          ...     ...   \n",
      "88        115     72           38            34.0          NaN    3960   \n",
      "89        103     67           35            31.5         14.0    2985   \n",
      "90         97     66           36            26.0         15.0    2810   \n",
      "91        104     67           37            29.5         14.0    2985   \n",
      "92        105     69           38            30.0         15.0    3245   \n",
      "\n",
      "     Origin                Make  \n",
      "0   non-USA       Acura Integra  \n",
      "1   non-USA        Acura Legend  \n",
      "2   non-USA             Audi 90  \n",
      "3   non-USA            Audi 100  \n",
      "4   non-USA            BMW 535i  \n",
      "..      ...                 ...  \n",
      "88  non-USA  Volkswagen Eurovan  \n",
      "89  non-USA   Volkswagen Passat  \n",
      "90  non-USA  Volkswagen Corrado  \n",
      "91  non-USA           Volvo 240  \n",
      "92  non-USA           Volvo 850  \n",
      "\n",
      "[93 rows x 28 columns]\n"
     ]
    },
    {
     "ename": "ValueError",
     "evalue": "Writing 28 cols but got 1 aliases",
     "output_type": "error",
     "traceback": [
      "\u001b[0;31m---------------------------------------------------------------------------\u001b[0m",
      "\u001b[0;31mValueError\u001b[0m                                Traceback (most recent call last)",
      "\u001b[1;32m/Users/bharatagrawal/Desktop/github/repositories/projects/Assignments/Assignment_9/test.ipynb Cell 3\u001b[0m line \u001b[0;36m9\n\u001b[1;32m      <a href='vscode-notebook-cell:/Users/bharatagrawal/Desktop/github/repositories/projects/Assignments/Assignment_9/test.ipynb#W2sZmlsZQ%3D%3D?line=6'>7</a>\u001b[0m \u001b[39m# df=pd.DataFrame(required_data,columns=header)\u001b[39;00m\n\u001b[1;32m      <a href='vscode-notebook-cell:/Users/bharatagrawal/Desktop/github/repositories/projects/Assignments/Assignment_9/test.ipynb#W2sZmlsZQ%3D%3D?line=7'>8</a>\u001b[0m \u001b[39mprint\u001b[39m(df)\n\u001b[0;32m----> <a href='vscode-notebook-cell:/Users/bharatagrawal/Desktop/github/repositories/projects/Assignments/Assignment_9/test.ipynb#W2sZmlsZQ%3D%3D?line=8'>9</a>\u001b[0m df\u001b[39m.\u001b[39;49mto_csv(\u001b[39m'\u001b[39;49m\u001b[39mproblem1d.csv\u001b[39;49m\u001b[39m'\u001b[39;49m,header\u001b[39m=\u001b[39;49mheader)\n",
      "File \u001b[0;32m/Library/Frameworks/Python.framework/Versions/3.12/lib/python3.12/site-packages/pandas/core/generic.py:3902\u001b[0m, in \u001b[0;36mNDFrame.to_csv\u001b[0;34m(self, path_or_buf, sep, na_rep, float_format, columns, header, index, index_label, mode, encoding, compression, quoting, quotechar, lineterminator, chunksize, date_format, doublequote, escapechar, decimal, errors, storage_options)\u001b[0m\n\u001b[1;32m   3891\u001b[0m df \u001b[39m=\u001b[39m \u001b[39mself\u001b[39m \u001b[39mif\u001b[39;00m \u001b[39misinstance\u001b[39m(\u001b[39mself\u001b[39m, ABCDataFrame) \u001b[39melse\u001b[39;00m \u001b[39mself\u001b[39m\u001b[39m.\u001b[39mto_frame()\n\u001b[1;32m   3893\u001b[0m formatter \u001b[39m=\u001b[39m DataFrameFormatter(\n\u001b[1;32m   3894\u001b[0m     frame\u001b[39m=\u001b[39mdf,\n\u001b[1;32m   3895\u001b[0m     header\u001b[39m=\u001b[39mheader,\n\u001b[0;32m   (...)\u001b[0m\n\u001b[1;32m   3899\u001b[0m     decimal\u001b[39m=\u001b[39mdecimal,\n\u001b[1;32m   3900\u001b[0m )\n\u001b[0;32m-> 3902\u001b[0m \u001b[39mreturn\u001b[39;00m DataFrameRenderer(formatter)\u001b[39m.\u001b[39;49mto_csv(\n\u001b[1;32m   3903\u001b[0m     path_or_buf,\n\u001b[1;32m   3904\u001b[0m     lineterminator\u001b[39m=\u001b[39;49mlineterminator,\n\u001b[1;32m   3905\u001b[0m     sep\u001b[39m=\u001b[39;49msep,\n\u001b[1;32m   3906\u001b[0m     encoding\u001b[39m=\u001b[39;49mencoding,\n\u001b[1;32m   3907\u001b[0m     errors\u001b[39m=\u001b[39;49merrors,\n\u001b[1;32m   3908\u001b[0m     compression\u001b[39m=\u001b[39;49mcompression,\n\u001b[1;32m   3909\u001b[0m     quoting\u001b[39m=\u001b[39;49mquoting,\n\u001b[1;32m   3910\u001b[0m     columns\u001b[39m=\u001b[39;49mcolumns,\n\u001b[1;32m   3911\u001b[0m     index_label\u001b[39m=\u001b[39;49mindex_label,\n\u001b[1;32m   3912\u001b[0m     mode\u001b[39m=\u001b[39;49mmode,\n\u001b[1;32m   3913\u001b[0m     chunksize\u001b[39m=\u001b[39;49mchunksize,\n\u001b[1;32m   3914\u001b[0m     quotechar\u001b[39m=\u001b[39;49mquotechar,\n\u001b[1;32m   3915\u001b[0m     date_format\u001b[39m=\u001b[39;49mdate_format,\n\u001b[1;32m   3916\u001b[0m     doublequote\u001b[39m=\u001b[39;49mdoublequote,\n\u001b[1;32m   3917\u001b[0m     escapechar\u001b[39m=\u001b[39;49mescapechar,\n\u001b[1;32m   3918\u001b[0m     storage_options\u001b[39m=\u001b[39;49mstorage_options,\n\u001b[1;32m   3919\u001b[0m )\n",
      "File \u001b[0;32m/Library/Frameworks/Python.framework/Versions/3.12/lib/python3.12/site-packages/pandas/io/formats/format.py:1152\u001b[0m, in \u001b[0;36mDataFrameRenderer.to_csv\u001b[0;34m(self, path_or_buf, encoding, sep, columns, index_label, mode, compression, quoting, quotechar, lineterminator, chunksize, date_format, doublequote, escapechar, errors, storage_options)\u001b[0m\n\u001b[1;32m   1131\u001b[0m     created_buffer \u001b[39m=\u001b[39m \u001b[39mFalse\u001b[39;00m\n\u001b[1;32m   1133\u001b[0m csv_formatter \u001b[39m=\u001b[39m CSVFormatter(\n\u001b[1;32m   1134\u001b[0m     path_or_buf\u001b[39m=\u001b[39mpath_or_buf,\n\u001b[1;32m   1135\u001b[0m     lineterminator\u001b[39m=\u001b[39mlineterminator,\n\u001b[0;32m   (...)\u001b[0m\n\u001b[1;32m   1150\u001b[0m     formatter\u001b[39m=\u001b[39m\u001b[39mself\u001b[39m\u001b[39m.\u001b[39mfmt,\n\u001b[1;32m   1151\u001b[0m )\n\u001b[0;32m-> 1152\u001b[0m csv_formatter\u001b[39m.\u001b[39;49msave()\n\u001b[1;32m   1154\u001b[0m \u001b[39mif\u001b[39;00m created_buffer:\n\u001b[1;32m   1155\u001b[0m     \u001b[39massert\u001b[39;00m \u001b[39misinstance\u001b[39m(path_or_buf, StringIO)\n",
      "File \u001b[0;32m/Library/Frameworks/Python.framework/Versions/3.12/lib/python3.12/site-packages/pandas/io/formats/csvs.py:266\u001b[0m, in \u001b[0;36mCSVFormatter.save\u001b[0;34m(self)\u001b[0m\n\u001b[1;32m    247\u001b[0m \u001b[39mwith\u001b[39;00m get_handle(\n\u001b[1;32m    248\u001b[0m     \u001b[39mself\u001b[39m\u001b[39m.\u001b[39mfilepath_or_buffer,\n\u001b[1;32m    249\u001b[0m     \u001b[39mself\u001b[39m\u001b[39m.\u001b[39mmode,\n\u001b[0;32m   (...)\u001b[0m\n\u001b[1;32m    254\u001b[0m ) \u001b[39mas\u001b[39;00m handles:\n\u001b[1;32m    255\u001b[0m     \u001b[39m# Note: self.encoding is irrelevant here\u001b[39;00m\n\u001b[1;32m    256\u001b[0m     \u001b[39mself\u001b[39m\u001b[39m.\u001b[39mwriter \u001b[39m=\u001b[39m csvlib\u001b[39m.\u001b[39mwriter(\n\u001b[1;32m    257\u001b[0m         handles\u001b[39m.\u001b[39mhandle,\n\u001b[1;32m    258\u001b[0m         lineterminator\u001b[39m=\u001b[39m\u001b[39mself\u001b[39m\u001b[39m.\u001b[39mlineterminator,\n\u001b[0;32m   (...)\u001b[0m\n\u001b[1;32m    263\u001b[0m         quotechar\u001b[39m=\u001b[39m\u001b[39mself\u001b[39m\u001b[39m.\u001b[39mquotechar,\n\u001b[1;32m    264\u001b[0m     )\n\u001b[0;32m--> 266\u001b[0m     \u001b[39mself\u001b[39;49m\u001b[39m.\u001b[39;49m_save()\n",
      "File \u001b[0;32m/Library/Frameworks/Python.framework/Versions/3.12/lib/python3.12/site-packages/pandas/io/formats/csvs.py:270\u001b[0m, in \u001b[0;36mCSVFormatter._save\u001b[0;34m(self)\u001b[0m\n\u001b[1;32m    268\u001b[0m \u001b[39mdef\u001b[39;00m \u001b[39m_save\u001b[39m(\u001b[39mself\u001b[39m) \u001b[39m-\u001b[39m\u001b[39m>\u001b[39m \u001b[39mNone\u001b[39;00m:\n\u001b[1;32m    269\u001b[0m     \u001b[39mif\u001b[39;00m \u001b[39mself\u001b[39m\u001b[39m.\u001b[39m_need_to_save_header:\n\u001b[0;32m--> 270\u001b[0m         \u001b[39mself\u001b[39;49m\u001b[39m.\u001b[39;49m_save_header()\n\u001b[1;32m    271\u001b[0m     \u001b[39mself\u001b[39m\u001b[39m.\u001b[39m_save_body()\n",
      "File \u001b[0;32m/Library/Frameworks/Python.framework/Versions/3.12/lib/python3.12/site-packages/pandas/io/formats/csvs.py:275\u001b[0m, in \u001b[0;36mCSVFormatter._save_header\u001b[0;34m(self)\u001b[0m\n\u001b[1;32m    273\u001b[0m \u001b[39mdef\u001b[39;00m \u001b[39m_save_header\u001b[39m(\u001b[39mself\u001b[39m) \u001b[39m-\u001b[39m\u001b[39m>\u001b[39m \u001b[39mNone\u001b[39;00m:\n\u001b[1;32m    274\u001b[0m     \u001b[39mif\u001b[39;00m \u001b[39mnot\u001b[39;00m \u001b[39mself\u001b[39m\u001b[39m.\u001b[39mhas_mi_columns \u001b[39mor\u001b[39;00m \u001b[39mself\u001b[39m\u001b[39m.\u001b[39m_has_aliases:\n\u001b[0;32m--> 275\u001b[0m         \u001b[39mself\u001b[39m\u001b[39m.\u001b[39mwriter\u001b[39m.\u001b[39mwriterow(\u001b[39mself\u001b[39;49m\u001b[39m.\u001b[39;49mencoded_labels)\n\u001b[1;32m    276\u001b[0m     \u001b[39melse\u001b[39;00m:\n\u001b[1;32m    277\u001b[0m         \u001b[39mfor\u001b[39;00m row \u001b[39min\u001b[39;00m \u001b[39mself\u001b[39m\u001b[39m.\u001b[39m_generate_multiindex_header_rows():\n",
      "File \u001b[0;32m/Library/Frameworks/Python.framework/Versions/3.12/lib/python3.12/site-packages/pandas/io/formats/csvs.py:238\u001b[0m, in \u001b[0;36mCSVFormatter.encoded_labels\u001b[0;34m(self)\u001b[0m\n\u001b[1;32m    235\u001b[0m     encoded_labels \u001b[39m=\u001b[39m \u001b[39mlist\u001b[39m(\u001b[39mself\u001b[39m\u001b[39m.\u001b[39mindex_label)\n\u001b[1;32m    237\u001b[0m \u001b[39mif\u001b[39;00m \u001b[39mnot\u001b[39;00m \u001b[39mself\u001b[39m\u001b[39m.\u001b[39mhas_mi_columns \u001b[39mor\u001b[39;00m \u001b[39mself\u001b[39m\u001b[39m.\u001b[39m_has_aliases:\n\u001b[0;32m--> 238\u001b[0m     encoded_labels \u001b[39m+\u001b[39m\u001b[39m=\u001b[39m \u001b[39mlist\u001b[39m(\u001b[39mself\u001b[39;49m\u001b[39m.\u001b[39;49mwrite_cols)\n\u001b[1;32m    240\u001b[0m \u001b[39mreturn\u001b[39;00m encoded_labels\n",
      "File \u001b[0;32m/Library/Frameworks/Python.framework/Versions/3.12/lib/python3.12/site-packages/pandas/io/formats/csvs.py:220\u001b[0m, in \u001b[0;36mCSVFormatter.write_cols\u001b[0;34m(self)\u001b[0m\n\u001b[1;32m    218\u001b[0m     \u001b[39massert\u001b[39;00m \u001b[39mnot\u001b[39;00m \u001b[39misinstance\u001b[39m(\u001b[39mself\u001b[39m\u001b[39m.\u001b[39mheader, \u001b[39mbool\u001b[39m)\n\u001b[1;32m    219\u001b[0m     \u001b[39mif\u001b[39;00m \u001b[39mlen\u001b[39m(\u001b[39mself\u001b[39m\u001b[39m.\u001b[39mheader) \u001b[39m!=\u001b[39m \u001b[39mlen\u001b[39m(\u001b[39mself\u001b[39m\u001b[39m.\u001b[39mcols):\n\u001b[0;32m--> 220\u001b[0m         \u001b[39mraise\u001b[39;00m \u001b[39mValueError\u001b[39;00m(\n\u001b[1;32m    221\u001b[0m             \u001b[39mf\u001b[39m\u001b[39m\"\u001b[39m\u001b[39mWriting \u001b[39m\u001b[39m{\u001b[39;00m\u001b[39mlen\u001b[39m(\u001b[39mself\u001b[39m\u001b[39m.\u001b[39mcols)\u001b[39m}\u001b[39;00m\u001b[39m cols but got \u001b[39m\u001b[39m{\u001b[39;00m\u001b[39mlen\u001b[39m(\u001b[39mself\u001b[39m\u001b[39m.\u001b[39mheader)\u001b[39m}\u001b[39;00m\u001b[39m aliases\u001b[39m\u001b[39m\"\u001b[39m\n\u001b[1;32m    222\u001b[0m         )\n\u001b[1;32m    223\u001b[0m     \u001b[39mreturn\u001b[39;00m \u001b[39mself\u001b[39m\u001b[39m.\u001b[39mheader\n\u001b[1;32m    224\u001b[0m \u001b[39melse\u001b[39;00m:\n\u001b[1;32m    225\u001b[0m     \u001b[39m# self.cols is an ndarray derived from Index._format_native_types,\u001b[39;00m\n\u001b[1;32m    226\u001b[0m     \u001b[39m#  so its entries are strings, i.e. hashable\u001b[39;00m\n",
      "\u001b[0;31mValueError\u001b[0m: Writing 28 cols but got 1 aliases"
     ]
    }
   ],
   "source": [
    "#part-d\n",
    "import pandas as pd\n",
    "df=pd.read_csv('Cars93.csv')\n",
    "required_data=df.groupby('Manufacturer').size().sort_values(ascending=False)\n",
    "print(required_data)\n",
    "header=['Count']\n",
    "df=pd.DataFrame(required_data,columns=header)\n",
    "print(df)\n",
    "df.to_csv('problem1d.csv')"
   ]
  }
 ],
 "metadata": {
  "kernelspec": {
   "display_name": "Python 3",
   "language": "python",
   "name": "python3"
  },
  "language_info": {
   "codemirror_mode": {
    "name": "ipython",
    "version": 3
   },
   "file_extension": ".py",
   "mimetype": "text/x-python",
   "name": "python",
   "nbconvert_exporter": "python",
   "pygments_lexer": "ipython3",
   "version": "3.12.0"
  }
 },
 "nbformat": 4,
 "nbformat_minor": 2
}
