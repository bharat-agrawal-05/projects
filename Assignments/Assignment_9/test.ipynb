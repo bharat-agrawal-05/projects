{
 "cells": [
  {
   "cell_type": "code",
   "execution_count": 11,
   "metadata": {},
   "outputs": [],
   "source": [
    "import pandas as pd\n",
    "import csv \n",
    "\n",
    "df=pd.read_csv('Cars93.csv')\n",
    "types=df['Type'].unique()\n",
    "with open('problem1b.csv','w') as f:\n",
    "    w=csv.writer(f)\n",
    "    w.writerow(df.columns)\n",
    "\n",
    "for i in types:\n",
    "    data=df.groupby('Type').get_group(i)\n",
    "    required_data=pd.DataFrame(data[data['Max.Price']==data['Max.Price'].max()])\n",
    "    with open('problem1b.csv','a') as f:\n",
    "        writer=csv.writer(f)\n",
    "        writer.writerows(required_data.values)\n",
    "    \n",
    "        "
   ]
  },
  {
   "cell_type": "code",
   "execution_count": 15,
   "metadata": {},
   "outputs": [
    {
     "name": "stdout",
     "output_type": "stream",
     "text": [
      "0    Integra\n",
      "1     Legend\n",
      "Name: Model, dtype: object\n"
     ]
    }
   ],
   "source": [
    "#part-c\n",
    "import sys\n",
    "import pandas as pd\n",
    "\n",
    "if len(sys.argv)!=2:\n",
    "    print('Enter Name of the Manufacturer as command line argument')\n",
    "    exit()\n",
    "\n",
    "input=sys.argv[1]\n",
    "df=pd.read_csv('Cars93.csv')\n",
    "required_data=df[df['Manufacturer']==input]['Model']\n",
    "print(required_data)"
   ]
  },
  {
   "cell_type": "code",
   "execution_count": 25,
   "metadata": {},
   "outputs": [
    {
     "name": "stdout",
     "output_type": "stream",
     "text": [
      "(32,)\n"
     ]
    }
   ],
   "source": [
    "#part-d\n",
    "import pandas as pd\n",
    "df=pd.read_csv('Cars93.csv')\n",
    "required_data=df.groupby('Manufacturer').size().sort_values(ascending=False)\n",
    "print(required_data.shape)\n",
    "header=['Count']\n",
    "df=pd.DataFrame(required_data,columns=header)\n",
    "df.to_csv('problem1d.csv')"
   ]
  }
 ],
 "metadata": {
  "kernelspec": {
   "display_name": "Python 3",
   "language": "python",
   "name": "python3"
  },
  "language_info": {
   "codemirror_mode": {
    "name": "ipython",
    "version": 3
   },
   "file_extension": ".py",
   "mimetype": "text/x-python",
   "name": "python",
   "nbconvert_exporter": "python",
   "pygments_lexer": "ipython3",
   "version": "3.12.0"
  }
 },
 "nbformat": 4,
 "nbformat_minor": 2
}
